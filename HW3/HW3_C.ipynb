{
 "cells": [
  {
   "cell_type": "raw",
   "id": "57d419b3",
   "metadata": {},
   "source": [
    "%--------------------------------------------%\n",
    "% Rohit Kharat\n",
    "% Course Code: CSCI 5722\n",
    "% Homework 3: Q6 Part C\n",
    "% Instructor: Prof. Ioana Fleming\n",
    "%--------------------------------------------%"
   ]
  },
  {
   "cell_type": "code",
   "execution_count": 1,
   "id": "086b876a",
   "metadata": {},
   "outputs": [],
   "source": [
    "import warnings\n",
    "warnings.filterwarnings('ignore')"
   ]
  },
  {
   "cell_type": "code",
   "execution_count": 2,
   "id": "39144c69",
   "metadata": {},
   "outputs": [],
   "source": [
    "import numpy as np\n",
    "import matplotlib.pyplot as plt\n",
    "import cv2 as cv"
   ]
  },
  {
   "cell_type": "code",
   "execution_count": 3,
   "id": "68062301",
   "metadata": {},
   "outputs": [],
   "source": [
    "def load_img():\n",
    "    blank_img = np.zeros((600, 600))\n",
    "    return blank_img"
   ]
  },
  {
   "cell_type": "code",
   "execution_count": 4,
   "id": "46fbcf0e",
   "metadata": {},
   "outputs": [],
   "source": [
    "def display_img(img):\n",
    "    fig = plt.figure(figsize=(12,10))\n",
    "    ax = fig.add_subplot(111)\n",
    "    ax.imshow(img, cmap='gray')"
   ]
  },
  {
   "cell_type": "raw",
   "id": "da9acbb3",
   "metadata": {},
   "source": [
    "# RMSE Calculation\n",
    "    \n",
    "    RMSE_1 = np.sqrt(np.square(np.absolute(x1 - x1_round)) + np.square(np.absolute(y1 - y1_round)))\n",
    "\n",
    "    RMSE_2 = np.sqrt(np.square(np.absolute(x2 - x2_round)) + np.square(np.absolute(y2 - y2_round)))\n",
    "\n",
    "    RMSE_3 = np.sqrt(np.square(np.absolute(x3 - x3_round)) + np.square(np.absolute(y3 - y3_round)))\n",
    "\n",
    "    RMSE_4 = np.sqrt(np.square(np.absolute(x4 - x4_round)) + np.square(np.absolute(y4 - y4_round)))"
   ]
  },
  {
   "cell_type": "code",
   "execution_count": 11,
   "id": "1b68565c",
   "metadata": {},
   "outputs": [],
   "source": [
    "def H_corners3():\n",
    "    img = np.zeros((600, 600))\n",
    "    \n",
    "    mask = np.zeros(img.shape[:2], np.uint8)\n",
    "    mask[200:400, 200:400] = 255\n",
    "    \n",
    "    img = cv.cvtColor(mask, cv.COLOR_GRAY2BGR)\n",
    "    blurred_image1 = cv.cvtColor(mask, cv.COLOR_GRAY2BGR)\n",
    "    blurred_image2 = cv.cvtColor(mask, cv.COLOR_GRAY2BGR)\n",
    "    blurred_image3 = cv.cvtColor(mask, cv.COLOR_GRAY2BGR)\n",
    "    \n",
    "    # Gaussian Blur\n",
    "    blurred_image1 = cv.GaussianBlur(blurred_image1,(3,3),0)\n",
    "    blurred_image2 = cv.GaussianBlur(blurred_image2,(5,5),0)\n",
    "    blurred_image3 = cv.GaussianBlur(blurred_image3,(7,7),0)\n",
    "    \n",
    "    # Calculation of standard deviation \n",
    "    st_dev1 = 0.3*((1-1)*0.5-1)+0.8\n",
    "    st_dev2 = 0.3*((3-1)*0.5-1)+0.8\n",
    "    st_dev3 = 0.3*((5-1)*0.5-1)+0.8\n",
    "    st_dev4 = 0.3*((7-1)*0.5-1)+0.8\n",
    "    \n",
    "    # Converting BGR to Grayscale\n",
    "    gray = cv.cvtColor(img,cv.COLOR_BGR2GRAY)\n",
    "    gray2 = cv.cvtColor(blurred_image1,cv.COLOR_BGR2GRAY)\n",
    "    gray3 = cv.cvtColor(blurred_image2,cv.COLOR_BGR2GRAY)\n",
    "    gray4 = cv.cvtColor(blurred_image3,cv.COLOR_BGR2GRAY)\n",
    "    \n",
    "    # Harris Corner\n",
    "    dst = cv.cornerHarris(gray,2,3,0.04)\n",
    "    dst2 = cv.cornerHarris(gray2,2,3,0.04)\n",
    "    dst3 = cv.cornerHarris(gray3,2,3,0.04)\n",
    "    dst4 = cv.cornerHarris(gray4,2,3,0.04)\n",
    "\n",
    "    # Counting number of corner points\n",
    "    corners = np.zeros(dst.shape)\n",
    "    corners2 = np.zeros(dst2.shape)\n",
    "    corners3 = np.zeros(dst3.shape)\n",
    "    corners4 = np.zeros(dst4.shape)\n",
    "    \n",
    "    corners[dst > 0.01*dst.max()] = 255\n",
    "    corners2[dst2 > 0.01*dst2.max()] = 255\n",
    "    corners3[dst3 > 0.01*dst3.max()] = 255\n",
    "    corners4[dst4 > 0.01*dst4.max()] = 255\n",
    "\n",
    "    a = []\n",
    "    a.append(np.argwhere(corners==255))\n",
    "    a2 = []\n",
    "    a2.append(np.argwhere(corners2==255))\n",
    "    a3 = []\n",
    "    a3.append(np.argwhere(corners3==255))\n",
    "    a4 = []\n",
    "    a4.append(np.argwhere(corners4==255))\n",
    "\n",
    "    num_corners = len(a[0])\n",
    "    num_corners2 = len(a2[0])\n",
    "    num_corners3 = len(a3[0])\n",
    "    num_corners4 = len(a4[0])\n",
    "    \n",
    "    # Actual coordinates\n",
    "    x,y = np.nonzero(dst > 0.03 * dst.max())\n",
    "    x2,y2 = np.nonzero(dst2 > 0.03 * dst2.max())\n",
    "    x3,y3 = np.nonzero(dst3 > 0.03 * dst3.max())\n",
    "    x4,y4 = np.nonzero(dst4 > 0.03 * dst4.max())\n",
    "    \n",
    "    x_round = np.round(x,-2)\n",
    "    x2_round = np.round(x2,-2)\n",
    "    x3_round = np.round(x3,-2)\n",
    "    x4_round = np.round(x4,-2)\n",
    "    y_round = np.round(y,-2)\n",
    "    y2_round = np.round(y2,-2)\n",
    "    y3_round = np.round(y3,-2)\n",
    "    y4_round = np.round(y4,-2)\n",
    "    \n",
    "    # Difference between coordinates\n",
    "    \n",
    "    x1_dif = np.absolute(x - x_round)\n",
    "    y1_dif = np.absolute(y - y_round)\n",
    "    x2_dif = np.absolute(x2 - x2_round)\n",
    "    y2_dif = np.absolute(y2 - y2_round)\n",
    "    x3_dif = np.absolute(x3 - x3_round)\n",
    "    y3_dif = np.absolute(y3 - y3_round)\n",
    "    x4_dif = np.absolute(x4 - x4_round)\n",
    "    y4_dif = np.absolute(y4 - y4_round)\n",
    "    \n",
    "    \n",
    "    # Square Difference \n",
    "    \n",
    "    x1_sq = np.square(x1_dif)\n",
    "    y1_sq = np.square(y1_dif)\n",
    "    x2_sq = np.square(x2_dif)\n",
    "    y2_sq = np.square(y2_dif)\n",
    "    x3_sq = np.square(x3_dif)\n",
    "    y3_sq = np.square(y3_dif)\n",
    "    x4_sq = np.square(x4_dif)\n",
    "    y4_sq = np.square(y4_dif)\n",
    "\n",
    "    # RMSE calculation\n",
    "    sq_err1 = np.add(x1_sq, y1_sq)\n",
    "    sq_err2 = np.add(x2_sq, y2_sq)\n",
    "    sq_err3 = np.add(x3_sq, y3_sq)\n",
    "    sq_err4 = np.add(x4_sq, y4_sq)\n",
    "\n",
    "    RMSE_1 = np.sqrt(np.mean(sq_err1))\n",
    "    RMSE_2 = np.sqrt(np.mean(sq_err2))\n",
    "    RMSE_3 = np.sqrt(np.mean(sq_err3))\n",
    "    RMSE_4 = np.sqrt(np.mean(sq_err4))\n",
    "    \n",
    "\n",
    "    # Result dilation\n",
    "    dst = cv.dilate(dst,None)\n",
    "    dst2 = cv.dilate(dst2,None)\n",
    "    dst3 = cv.dilate(dst3,None)\n",
    "    dst4 = cv.dilate(dst4,None)\n",
    "    \n",
    "    # Image Thresholding\n",
    "    img[dst>0.03*dst.max()]=[0,0,255]\n",
    "    blurred_image1[dst2>0.03*dst2.max()]=[0,0,255]\n",
    "    blurred_image2[dst3>0.03*dst3.max()]=[0,0,255]\n",
    "    blurred_image3[dst4>0.03*dst4.max()]=[0,0,255]\n",
    "\n",
    "    # Plots for RMSE vs Std Dev\n",
    "    fig = plt.figure(figsize=(14,18))\n",
    "    ax1 = fig.add_subplot(3,1,1)\n",
    "    ax1.set_title(\"RMSE vs Std Dev: 1st Image\")\n",
    "    plt.plot([st_dev1, st_dev2], [RMSE_1, RMSE_2])\n",
    "    \n",
    "    ax2 = fig.add_subplot(3,1,2)\n",
    "    ax2.set_title(\"RMSE vs Std Dev: 2nd Image\")\n",
    "    plt.plot([st_dev2, st_dev3], [RMSE_2, RMSE_3])\n",
    "    \n",
    "    ax3 = fig.add_subplot(3,1,3)\n",
    "    ax3.set_title(\"RMSE vs Std Dev: 3rd Image\")\n",
    "    plt.plot([st_dev3, st_dev4], [RMSE_3, RMSE_4])\n",
    "    \n",
    "    plt.show()"
   ]
  },
  {
   "cell_type": "code",
   "execution_count": 12,
   "id": "efc22548",
   "metadata": {},
   "outputs": [
    {
     "data": {
      "image/png": "[encoded data removed]",
      "text/plain": [
       "<Figure size 1008x1296 with 3 Axes>"
      ]
     },
     "metadata": {
      "needs_background": "light"
     },
     "output_type": "display_data"
    }
   ],
   "source": [
    "H_corners3()"
   ]
  },
  {
   "cell_type": "code",
   "execution_count": null,
   "id": "52a7935b",
   "metadata": {},
   "outputs": [],
   "source": []
  }
 ],
 "metadata": {
  "kernelspec": {
   "display_name": "Python 3 (ipykernel)",
   "language": "python",
   "name": "python3"
  },
  "language_info": {
   "codemirror_mode": {
    "name": "ipython",
    "version": 3
   },
   "file_extension": ".py",
   "mimetype": "text/x-python",
   "name": "python",
   "nbconvert_exporter": "python",
   "pygments_lexer": "ipython3",
   "version": "3.8.12"
  }
 },
 "nbformat": 4,
 "nbformat_minor": 5
}
